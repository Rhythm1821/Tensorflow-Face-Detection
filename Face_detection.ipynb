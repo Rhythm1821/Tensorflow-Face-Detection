{
  "nbformat": 4,
  "nbformat_minor": 0,
  "metadata": {
    "colab": {
      "provenance": [],
      "authorship_tag": "ABX9TyOmBYc8FdtpfthsyLKjPhsi",
      "include_colab_link": true
    },
    "kernelspec": {
      "name": "python3",
      "display_name": "Python 3"
    },
    "language_info": {
      "name": "python"
    }
  },
  "cells": [
    {
      "cell_type": "markdown",
      "metadata": {
        "id": "view-in-github",
        "colab_type": "text"
      },
      "source": [
        "<a href=\"https://colab.research.google.com/github/Rhythm1821/Tensorflow-Face-Detection/blob/main/Face_detection.ipynb\" target=\"_parent\"><img src=\"https://colab.research.google.com/assets/colab-badge.svg\" alt=\"Open In Colab\"/></a>"
      ]
    },
    {
      "cell_type": "markdown",
      "source": [
        "# Face Detection Tensorflow"
      ],
      "metadata": {
        "id": "0Nf181yW6WRE"
      }
    },
    {
      "cell_type": "markdown",
      "source": [
        "## 1 Setup and Data gathering"
      ],
      "metadata": {
        "id": "_LI6pMkP7VN5"
      }
    },
    {
      "cell_type": "markdown",
      "source": [
        "### 1.1 Install dependencies"
      ],
      "metadata": {
        "id": "tegUDzLxPSO6"
      }
    },
    {
      "cell_type": "code",
      "source": [
        "pip install --upgrade pip"
      ],
      "metadata": {
        "colab": {
          "base_uri": "https://localhost:8080/"
        },
        "id": "9VooG_4_Psoi",
        "outputId": "1204dede-1a83-4294-e9e7-8105dca1789f"
      },
      "execution_count": 9,
      "outputs": [
        {
          "output_type": "stream",
          "name": "stdout",
          "text": [
            "Requirement already satisfied: pip in /usr/local/lib/python3.10/dist-packages (23.2.1)\n",
            "\u001b[33mWARNING: Running pip as the 'root' user can result in broken permissions and conflicting behaviour with the system package manager. It is recommended to use a virtual environment instead: https://pip.pypa.io/warnings/venv\u001b[0m\u001b[33m\n",
            "\u001b[0m"
          ]
        }
      ]
    },
    {
      "cell_type": "code",
      "source": [
        "pip install albumentations"
      ],
      "metadata": {
        "colab": {
          "base_uri": "https://localhost:8080/"
        },
        "id": "5E1RnAOvPFGG",
        "outputId": "7aac6d16-e670-452d-a3c9-a90e9461a5cb"
      },
      "execution_count": 10,
      "outputs": [
        {
          "output_type": "stream",
          "name": "stdout",
          "text": [
            "Requirement already satisfied: albumentations in /usr/local/lib/python3.10/dist-packages (1.2.1)\n",
            "Requirement already satisfied: numpy>=1.11.1 in /usr/local/lib/python3.10/dist-packages (from albumentations) (1.22.4)\n",
            "Requirement already satisfied: scipy in /usr/local/lib/python3.10/dist-packages (from albumentations) (1.10.1)\n",
            "Requirement already satisfied: scikit-image>=0.16.1 in /usr/local/lib/python3.10/dist-packages (from albumentations) (0.19.3)\n",
            "Requirement already satisfied: PyYAML in /usr/local/lib/python3.10/dist-packages (from albumentations) (6.0.1)\n",
            "Requirement already satisfied: qudida>=0.0.4 in /usr/local/lib/python3.10/dist-packages (from albumentations) (0.0.4)\n",
            "Requirement already satisfied: opencv-python-headless>=4.1.1 in /usr/local/lib/python3.10/dist-packages (from albumentations) (4.8.0.74)\n",
            "Requirement already satisfied: scikit-learn>=0.19.1 in /usr/local/lib/python3.10/dist-packages (from qudida>=0.0.4->albumentations) (1.2.2)\n",
            "Requirement already satisfied: typing-extensions in /usr/local/lib/python3.10/dist-packages (from qudida>=0.0.4->albumentations) (4.7.1)\n",
            "Requirement already satisfied: networkx>=2.2 in /usr/local/lib/python3.10/dist-packages (from scikit-image>=0.16.1->albumentations) (3.1)\n",
            "Requirement already satisfied: pillow!=7.1.0,!=7.1.1,!=8.3.0,>=6.1.0 in /usr/local/lib/python3.10/dist-packages (from scikit-image>=0.16.1->albumentations) (9.4.0)\n",
            "Requirement already satisfied: imageio>=2.4.1 in /usr/local/lib/python3.10/dist-packages (from scikit-image>=0.16.1->albumentations) (2.25.1)\n",
            "Requirement already satisfied: tifffile>=2019.7.26 in /usr/local/lib/python3.10/dist-packages (from scikit-image>=0.16.1->albumentations) (2023.7.18)\n",
            "Requirement already satisfied: PyWavelets>=1.1.1 in /usr/local/lib/python3.10/dist-packages (from scikit-image>=0.16.1->albumentations) (1.4.1)\n",
            "Requirement already satisfied: packaging>=20.0 in /usr/local/lib/python3.10/dist-packages (from scikit-image>=0.16.1->albumentations) (23.1)\n",
            "Requirement already satisfied: joblib>=1.1.1 in /usr/local/lib/python3.10/dist-packages (from scikit-learn>=0.19.1->qudida>=0.0.4->albumentations) (1.3.1)\n",
            "Requirement already satisfied: threadpoolctl>=2.0.0 in /usr/local/lib/python3.10/dist-packages (from scikit-learn>=0.19.1->qudida>=0.0.4->albumentations) (3.2.0)\n",
            "\u001b[33mWARNING: Running pip as the 'root' user can result in broken permissions and conflicting behaviour with the system package manager. It is recommended to use a virtual environment instead: https://pip.pypa.io/warnings/venv\u001b[0m\u001b[33m\n",
            "\u001b[0m"
          ]
        }
      ]
    },
    {
      "cell_type": "code",
      "source": [
        "!pip install labelme\n",
        "import labelme"
      ],
      "metadata": {
        "id": "z28iWeFjPPwL",
        "colab": {
          "base_uri": "https://localhost:8080/"
        },
        "outputId": "6c9ffb2e-0bd0-4e1d-fded-c66bf1e1ea99"
      },
      "execution_count": 11,
      "outputs": [
        {
          "output_type": "stream",
          "name": "stdout",
          "text": [
            "Requirement already satisfied: labelme in /usr/local/lib/python3.10/dist-packages (5.2.1)\n",
            "Requirement already satisfied: imgviz>=0.11 in /usr/local/lib/python3.10/dist-packages (from labelme) (1.7.3)\n",
            "Requirement already satisfied: matplotlib in /usr/local/lib/python3.10/dist-packages (from labelme) (3.7.1)\n",
            "Requirement already satisfied: natsort>=7.1.0 in /usr/local/lib/python3.10/dist-packages (from labelme) (8.3.1)\n",
            "Requirement already satisfied: numpy in /usr/local/lib/python3.10/dist-packages (from labelme) (1.22.4)\n",
            "Requirement already satisfied: Pillow>=2.8 in /usr/local/lib/python3.10/dist-packages (from labelme) (9.4.0)\n",
            "Requirement already satisfied: PyYAML in /usr/local/lib/python3.10/dist-packages (from labelme) (6.0.1)\n",
            "Requirement already satisfied: qtpy!=1.11.2 in /usr/local/lib/python3.10/dist-packages (from labelme) (2.3.1)\n",
            "Requirement already satisfied: termcolor in /usr/local/lib/python3.10/dist-packages (from labelme) (2.3.0)\n",
            "Requirement already satisfied: PyQt5!=5.15.3,!=5.15.4 in /usr/local/lib/python3.10/dist-packages (from labelme) (5.15.9)\n",
            "Requirement already satisfied: PyQt5-sip<13,>=12.11 in /usr/local/lib/python3.10/dist-packages (from PyQt5!=5.15.3,!=5.15.4->labelme) (12.12.2)\n",
            "Requirement already satisfied: PyQt5-Qt5>=5.15.2 in /usr/local/lib/python3.10/dist-packages (from PyQt5!=5.15.3,!=5.15.4->labelme) (5.15.2)\n",
            "Requirement already satisfied: packaging in /usr/local/lib/python3.10/dist-packages (from qtpy!=1.11.2->labelme) (23.1)\n",
            "Requirement already satisfied: contourpy>=1.0.1 in /usr/local/lib/python3.10/dist-packages (from matplotlib->labelme) (1.1.0)\n",
            "Requirement already satisfied: cycler>=0.10 in /usr/local/lib/python3.10/dist-packages (from matplotlib->labelme) (0.11.0)\n",
            "Requirement already satisfied: fonttools>=4.22.0 in /usr/local/lib/python3.10/dist-packages (from matplotlib->labelme) (4.41.1)\n",
            "Requirement already satisfied: kiwisolver>=1.0.1 in /usr/local/lib/python3.10/dist-packages (from matplotlib->labelme) (1.4.4)\n",
            "Requirement already satisfied: pyparsing>=2.3.1 in /usr/local/lib/python3.10/dist-packages (from matplotlib->labelme) (3.1.0)\n",
            "Requirement already satisfied: python-dateutil>=2.7 in /usr/local/lib/python3.10/dist-packages (from matplotlib->labelme) (2.8.2)\n",
            "Requirement already satisfied: six>=1.5 in /usr/local/lib/python3.10/dist-packages (from python-dateutil>=2.7->matplotlib->labelme) (1.16.0)\n",
            "\u001b[33mWARNING: Running pip as the 'root' user can result in broken permissions and conflicting behaviour with the system package manager. It is recommended to use a virtual environment instead: https://pip.pypa.io/warnings/venv\u001b[0m\u001b[33m\n",
            "\u001b[0m"
          ]
        }
      ]
    },
    {
      "cell_type": "markdown",
      "source": [
        "### 1.2 Collect images using opencv"
      ],
      "metadata": {
        "id": "Celu0ACNQItg"
      }
    },
    {
      "cell_type": "code",
      "source": [
        "import os, uuid,time,cv2"
      ],
      "metadata": {
        "id": "StZAl1maQFpC"
      },
      "execution_count": 12,
      "outputs": []
    },
    {
      "cell_type": "code",
      "source": [
        "# Create data folder\n",
        "if not os.path.exists('data'):\n",
        "  os.mkdir('data')\n",
        "\n",
        "# if not os.path.exists('/content/data/images'):\n",
        "#   os.mkdir('/content/data/images')\n",
        "# if not os.path.exists('/content/data/labels'):\n",
        "#   os.mkdir('/content/data/labels')"
      ],
      "metadata": {
        "id": "6sQgnyuTQZK4"
      },
      "execution_count": 13,
      "outputs": []
    },
    {
      "cell_type": "code",
      "source": [
        "\"\"\"\n",
        "Take images by running this in your local to get your images\n",
        "IMAGES_PATH = os.path.join('content','data','images')\n",
        "number_images = 30\n",
        "cap = cv2.VideoCapture(0)\n",
        "for img_num in range(number_images):\n",
        "  print(f'Collecting image {img_num}')\n",
        "  ret, frame = cap.read()\n",
        "  imgname = os.path.join(IMAGES_PATH,f'{str(uuid.uuid1())}.jpg')\n",
        "  cv2.imwrite(imgname,frame)\n",
        "  cv2.imshow('frame',frame)\n",
        "  time.sleep(0.5)\n",
        "\n",
        "  if cv2.waitKey(1) & 0xFF==ord('q'):\n",
        "    break\n",
        "\n",
        "cap.release()\n",
        "cv2.destroyAllWindows()]\n",
        "\"\"\""
      ],
      "metadata": {
        "colab": {
          "base_uri": "https://localhost:8080/",
          "height": 105
        },
        "id": "9NkSqgFgUZ2L",
        "outputId": "72d0f7cc-3847-4a87-abd5-edcdb3e95ed1"
      },
      "execution_count": 14,
      "outputs": [
        {
          "output_type": "execute_result",
          "data": {
            "text/plain": [
              "\"\\nTake images by running this in your local to get your images\\nIMAGES_PATH = os.path.join('content','data','images')\\nnumber_images = 30\\ncap = cv2.VideoCapture(0)\\nfor img_num in range(number_images):\\n  print(f'Collecting image {img_num}')\\n  ret, frame = cap.read()\\n  imgname = os.path.join(IMAGES_PATH,f'{str(uuid.uuid1())}.jpg')\\n  cv2.imwrite(imgname,frame)\\n  cv2.imshow('frame',frame)\\n  time.sleep(0.5)\\n\\n  if cv2.waitKey(1) & 0xFF==ord('q'):\\n    break\\n\\ncap.release()\\ncv2.destroyAllWindows()]\\n\""
            ],
            "application/vnd.google.colaboratory.intrinsic+json": {
              "type": "string"
            }
          },
          "metadata": {},
          "execution_count": 14
        }
      ]
    },
    {
      "cell_type": "code",
      "source": [
        "from zipfile import ZipFile\n",
        "import requests\n",
        "from pathlib import Path\n",
        "\n",
        "data_path = Path('data/')\n",
        "image_path = Path(data_path / 'images')\n",
        "label_path = Path(data_path / 'labels')\n",
        "\n",
        "if data_path.is_dir():\n",
        "  print(f'{data_path} path already exists...')\n",
        "else:\n",
        "  print(f'Creating {data_path} path')\n",
        "  data_path.mkdir(parents=True,exist_ok=True)\n",
        "\n",
        "with open('images.zip','wb') as f:\n",
        "  request = requests.get('https://github.com/Rhythm1821/Colab-Project-Data/raw/main/Face-Detection/images.zip')\n",
        "  f.write(request.content)\n",
        "\n",
        "with ZipFile('images.zip','r') as zip_ref:\n",
        "  print('unzipping the data')\n",
        "  zip_ref.extractall(data_path)\n",
        "\n",
        "with open('labels.zip','wb') as f:\n",
        "  request = requests.get('https://github.com/Rhythm1821/Colab-Project-Data/raw/main/Face-Detection/labels.zip')\n",
        "  f.write(request.content)\n",
        "\n",
        "with ZipFile('labels.zip','r') as zip_ref:\n",
        "  print('unzipping the data')\n",
        "  zip_ref.extractall(data_path)\n"
      ],
      "metadata": {
        "colab": {
          "base_uri": "https://localhost:8080/"
        },
        "id": "4T8H4k8F3f0k",
        "outputId": "0022b255-8d63-4dc2-bdef-fa3ffa9980b3"
      },
      "execution_count": 15,
      "outputs": [
        {
          "output_type": "stream",
          "name": "stdout",
          "text": [
            "data path already exists...\n",
            "unzipping the data\n",
            "unzipping the data\n"
          ]
        }
      ]
    },
    {
      "cell_type": "markdown",
      "source": [
        "### 3 Review dataset and build image loading function"
      ],
      "metadata": {
        "id": "p5KX_RbRrOD4"
      }
    },
    {
      "cell_type": "markdown",
      "source": [
        "### 3.1 Import tf and Deps"
      ],
      "metadata": {
        "id": "ZaGQXomArXaG"
      }
    },
    {
      "cell_type": "code",
      "source": [],
      "metadata": {
        "id": "gFa26KzrrhXI"
      },
      "execution_count": 15,
      "outputs": []
    }
  ]
}